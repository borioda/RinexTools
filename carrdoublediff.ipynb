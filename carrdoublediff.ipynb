{
 "cells": [
  {
   "cell_type": "markdown",
   "id": "16822969",
   "metadata": {},
   "source": [
    "## Carrier Phase Double Differences ##\n",
    "---\n",
    "The notebook demonstrates the evaluation of carrier phase double differences."
   ]
  },
  {
   "cell_type": "markdown",
   "id": "e8f5c33d",
   "metadata": {},
   "source": [
    "### Import Required Libraries ###"
   ]
  },
  {
   "cell_type": "code",
   "execution_count": 1,
   "id": "06f93cb5",
   "metadata": {},
   "outputs": [],
   "source": [
    "# System library\n",
    "import os\n",
    "import numpy as np\n",
    "import pandas as pd\n",
    "\n",
    "# Graphic library, it may requires the installation of ipympl\n",
    "import matplotlib.pyplot as plt\n",
    "%matplotlib widget\n",
    "\n",
    "# Update bar\n",
    "from tqdm.notebook import tqdm\n",
    "\n",
    "# File chooser\n",
    "from ipyfilechooser import FileChooser\n",
    "\n",
    "# Custom libraries\n",
    "import rinex_parser as rp"
   ]
  },
  {
   "cell_type": "markdown",
   "id": "f94cf00d",
   "metadata": {},
   "source": [
    "### Load and parse the first RINEX file ###"
   ]
  },
  {
   "cell_type": "code",
   "execution_count": 2,
   "id": "ce0f7215",
   "metadata": {},
   "outputs": [
    {
     "data": {
      "application/vnd.jupyter.widget-view+json": {
       "model_id": "39c0bb3586cc477ca0a5330b61976633",
       "version_major": 2,
       "version_minor": 0
      },
      "text/plain": [
       "FileChooser(path='/media/daniele/5C13-0007/Projects/Development/RinexTools/code', filename='', title='', show_…"
      ]
     },
     "metadata": {},
     "output_type": "display_data"
    }
   ],
   "source": [
    "fc = FileChooser()\n",
    "fc"
   ]
  },
  {
   "cell_type": "code",
   "execution_count": 3,
   "id": "aae6db22",
   "metadata": {},
   "outputs": [
    {
     "name": "stdout",
     "output_type": "stream",
     "text": [
      "/media/daniele/5C13-0007/Projects/Development/RinexTools/rinex/WUT000POL_R_20240680000_01H_01S_MO.rnx\n"
     ]
    }
   ],
   "source": [
    "filename = fc.selected\n",
    "print(filename)"
   ]
  },
  {
   "cell_type": "code",
   "execution_count": 4,
   "id": "083e8d9d",
   "metadata": {},
   "outputs": [
    {
     "data": {
      "application/vnd.jupyter.widget-view+json": {
       "model_id": "c55df36ef38c43b2a67ef986748eddb3",
       "version_major": 2,
       "version_minor": 0
      },
      "text/plain": [
       "  0%|          | 0/41824864 [00:00<?, ?it/s]"
      ]
     },
     "metadata": {},
     "output_type": "display_data"
    }
   ],
   "source": [
    "# Allocate the rinex parser\n",
    "rxconv = rp.rinex_parser(filename)\n",
    "\n",
    "# Convert the rinex file into CSV format\n",
    "filecsv = filename.split(\"/\")[-1][:-4] + '.csv'\n",
    "\n",
    "# Output folder\n",
    "csvfolder = \"./csv\"\n",
    "if not os.path.exists(csvfolder) :\n",
    "    os.mkdir(csvfolder)\n",
    "\n",
    "filecsv = csvfolder + '/' + filecsv \n",
    "\n",
    "rxconv.to_csv(filecsv)\n",
    "\n",
    "# Load the converted file as Pandas dataframe\n",
    "df1 = pd.read_csv(filecsv)"
   ]
  },
  {
   "cell_type": "code",
   "execution_count": 5,
   "id": "76a289cb",
   "metadata": {},
   "outputs": [
    {
     "name": "stdout",
     "output_type": "stream",
     "text": [
      "              TOW  WEEK GNSS  PRN OBS_TYPE         VALUE\n",
      "0        432000.0  2304    C    2      C2I  4.060645e+07\n",
      "1        432000.0  2304    C    2      L2I  2.114484e+08\n",
      "2        432000.0  2304    C    2      D2I  1.777240e+02\n",
      "3        432000.0  2304    C    2      S2I  3.187500e+01\n",
      "4        432000.0  2304    C    2      C7I  4.060645e+07\n",
      "...           ...   ...  ...  ...      ...           ...\n",
      "2176348  435599.0  2304    G   30      S2L  3.543800e+01\n",
      "2176349  435599.0  2304    G   30      C5Q  2.455130e+07\n",
      "2176350  435599.0  2304    G   30      L5Q  9.634459e+07\n",
      "2176351  435599.0  2304    G   30      D5Q  2.889902e+03\n",
      "2176352  435599.0  2304    G   30      S5Q  3.868800e+01\n",
      "\n",
      "[2176353 rows x 6 columns]\n"
     ]
    }
   ],
   "source": [
    "print(df1)"
   ]
  },
  {
   "cell_type": "markdown",
   "id": "83fa2d41",
   "metadata": {},
   "source": [
    "### Do the same for the second RINEX file ###"
   ]
  },
  {
   "cell_type": "code",
   "execution_count": 6,
   "id": "093bd826",
   "metadata": {},
   "outputs": [
    {
     "data": {
      "application/vnd.jupyter.widget-view+json": {
       "model_id": "fae5a48645c0406895cd0a569ebc7356",
       "version_major": 2,
       "version_minor": 0
      },
      "text/plain": [
       "FileChooser(path='/media/daniele/5C13-0007/Projects/Development/RinexTools/code', filename='', title='', show_…"
      ]
     },
     "metadata": {},
     "output_type": "display_data"
    }
   ],
   "source": [
    "fb = FileChooser()\n",
    "fb"
   ]
  },
  {
   "cell_type": "code",
   "execution_count": 7,
   "id": "1e5fb954",
   "metadata": {},
   "outputs": [
    {
     "name": "stdout",
     "output_type": "stream",
     "text": [
      "/media/daniele/5C13-0007/Projects/Development/RinexTools/rinex/WUT100POL_R_20240680000_01H_01S_MO.rnx\n"
     ]
    }
   ],
   "source": [
    "filename1 = fb.selected\n",
    "print(filename1)"
   ]
  },
  {
   "cell_type": "code",
   "execution_count": 8,
   "id": "e8e687ff",
   "metadata": {},
   "outputs": [
    {
     "data": {
      "application/vnd.jupyter.widget-view+json": {
       "model_id": "be65d50abc0c45c18e644251c61a331e",
       "version_major": 2,
       "version_minor": 0
      },
      "text/plain": [
       "  0%|          | 0/41824114 [00:00<?, ?it/s]"
      ]
     },
     "metadata": {},
     "output_type": "display_data"
    }
   ],
   "source": [
    "# Allocate the rinex parser\n",
    "rxconv1 = rp.rinex_parser(filename1)\n",
    "\n",
    "# Convert the rinex file into CSV format\n",
    "filecsv1 = filename1.split(\"/\")[-1][:-4] + '.csv'\n",
    "\n",
    "filecsv1 = csvfolder + '/' + filecsv1 \n",
    "\n",
    "rxconv1.to_csv(filecsv1)\n",
    "\n",
    "# Load the converted file as Pandas dataframe\n",
    "df2 = pd.read_csv(filecsv1)"
   ]
  },
  {
   "cell_type": "code",
   "execution_count": 9,
   "id": "8f75aee9",
   "metadata": {},
   "outputs": [
    {
     "name": "stdout",
     "output_type": "stream",
     "text": [
      "              TOW  WEEK GNSS  PRN OBS_TYPE         VALUE\n",
      "0        432000.0  2304    C    2      C2I  4.058910e+07\n",
      "1        432000.0  2304    C    2      L2I  2.113581e+08\n",
      "2        432000.0  2304    C    2      D2I  8.218600e+01\n",
      "3        432000.0  2304    C    2      S2I  3.187500e+01\n",
      "4        432000.0  2304    C    2      C7I  4.058910e+07\n",
      "...           ...   ...  ...  ...      ...           ...\n",
      "2170524  435599.0  2304    G   30      S2L  3.550000e+01\n",
      "2170525  435599.0  2304    G   30      C5Q  2.460013e+07\n",
      "2170526  435599.0  2304    G   30      L5Q  9.653619e+07\n",
      "2170527  435599.0  2304    G   30      D5Q  2.817759e+03\n",
      "2170528  435599.0  2304    G   30      S5Q  3.875000e+01\n",
      "\n",
      "[2170529 rows x 6 columns]\n"
     ]
    }
   ],
   "source": [
    "print(df2)"
   ]
  },
  {
   "attachments": {
    "rtklib_status.png": {
     "image/png": "[encoded data removed]"
    }
   },
   "cell_type": "markdown",
   "id": "07aa4dfb",
   "metadata": {},
   "source": [
    "### Clock Biases ###\n",
    "**VERY IMPORTANT:** we DO NEED the clock biases associated to the two RINEX files to propagate carrier phases to the same time instant. Clock biases can be computed using standard SPP solutions. For instance, [RTKlib] (https://www.rtklib.com/) provides the clock solution within its **status file**. The related option must be enabled in **RTKPost**.\n",
    "\n",
    "See figure below:\n",
    "![rtklib_status.png](attachment:rtklib_status.png)"
   ]
  },
  {
   "cell_type": "markdown",
   "id": "9af7a297",
   "metadata": {},
   "source": [
    "### Function to load the clock bias from an RTKlib status file ###"
   ]
  },
  {
   "cell_type": "code",
   "execution_count": 10,
   "id": "66b67032",
   "metadata": {},
   "outputs": [],
   "source": [
    "def parse_clk_from_rtkstatus(filename : str) -> pd.DataFrame :\n",
    "    \n",
    "    # Open the input file\n",
    "    fid = open(filename, 'r')\n",
    "    \n",
    "    # Output dictionary\n",
    "    outDict = {\"WN\" : [],\n",
    "               \"TOW\" : [],\n",
    "               \"clk\" : []\n",
    "        }\n",
    "\n",
    "    for line in fid :\n",
    "        tkn = line.split(\",\")\n",
    "\n",
    "        if tkn[0] == \"$CLK\" :\n",
    "            outDict[\"WN\"].append(int(tkn[1]))\n",
    "            outDict[\"TOW\"].append(float(tkn[2]))\n",
    "            outDict[\"clk\"].append(float(tkn[7]))\n",
    "\n",
    "    outdf = pd.DataFrame(outDict)\n",
    "    \n",
    "    # Close the input file\n",
    "    fid.close()\n",
    "    \n",
    "    return outdf"
   ]
  },
  {
   "cell_type": "markdown",
   "id": "0482ea2e",
   "metadata": {},
   "source": [
    "### Open and load the first clock bias ###\n",
    "**Be sure to load the correct file**"
   ]
  },
  {
   "cell_type": "code",
   "execution_count": 11,
   "id": "3b58f737",
   "metadata": {},
   "outputs": [
    {
     "data": {
      "application/vnd.jupyter.widget-view+json": {
       "model_id": "0ba824c17956445dba04add5da822642",
       "version_major": 2,
       "version_minor": 0
      },
      "text/plain": [
       "FileChooser(path='/media/daniele/5C13-0007/Projects/Development/RinexTools/code', filename='', title='', show_…"
      ]
     },
     "metadata": {},
     "output_type": "display_data"
    }
   ],
   "source": [
    "fclk1 = FileChooser()\n",
    "fclk1"
   ]
  },
  {
   "cell_type": "code",
   "execution_count": 12,
   "id": "991b8ab7",
   "metadata": {},
   "outputs": [
    {
     "data": {
      "text/html": [
       "<div>\n",
       "<style scoped>\n",
       "    .dataframe tbody tr th:only-of-type {\n",
       "        vertical-align: middle;\n",
       "    }\n",
       "\n",
       "    .dataframe tbody tr th {\n",
       "        vertical-align: top;\n",
       "    }\n",
       "\n",
       "    .dataframe thead th {\n",
       "        text-align: right;\n",
       "    }\n",
       "</style>\n",
       "<table border=\"1\" class=\"dataframe\">\n",
       "  <thead>\n",
       "    <tr style=\"text-align: right;\">\n",
       "      <th></th>\n",
       "      <th>WN</th>\n",
       "      <th>TOW</th>\n",
       "      <th>clk</th>\n",
       "    </tr>\n",
       "  </thead>\n",
       "  <tbody>\n",
       "    <tr>\n",
       "      <th>0</th>\n",
       "      <td>2304</td>\n",
       "      <td>432000.0</td>\n",
       "      <td>-242543.243</td>\n",
       "    </tr>\n",
       "    <tr>\n",
       "      <th>1</th>\n",
       "      <td>2304</td>\n",
       "      <td>432001.0</td>\n",
       "      <td>-242696.333</td>\n",
       "    </tr>\n",
       "    <tr>\n",
       "      <th>2</th>\n",
       "      <td>2304</td>\n",
       "      <td>432002.0</td>\n",
       "      <td>-242849.016</td>\n",
       "    </tr>\n",
       "    <tr>\n",
       "      <th>3</th>\n",
       "      <td>2304</td>\n",
       "      <td>432003.0</td>\n",
       "      <td>-243002.037</td>\n",
       "    </tr>\n",
       "    <tr>\n",
       "      <th>4</th>\n",
       "      <td>2304</td>\n",
       "      <td>432004.0</td>\n",
       "      <td>-243155.255</td>\n",
       "    </tr>\n",
       "    <tr>\n",
       "      <th>...</th>\n",
       "      <td>...</td>\n",
       "      <td>...</td>\n",
       "      <td>...</td>\n",
       "    </tr>\n",
       "    <tr>\n",
       "      <th>3595</th>\n",
       "      <td>2304</td>\n",
       "      <td>435595.0</td>\n",
       "      <td>206783.022</td>\n",
       "    </tr>\n",
       "    <tr>\n",
       "      <th>3596</th>\n",
       "      <td>2304</td>\n",
       "      <td>435596.0</td>\n",
       "      <td>206629.914</td>\n",
       "    </tr>\n",
       "    <tr>\n",
       "      <th>3597</th>\n",
       "      <td>2304</td>\n",
       "      <td>435597.0</td>\n",
       "      <td>206476.893</td>\n",
       "    </tr>\n",
       "    <tr>\n",
       "      <th>3598</th>\n",
       "      <td>2304</td>\n",
       "      <td>435598.0</td>\n",
       "      <td>206323.507</td>\n",
       "    </tr>\n",
       "    <tr>\n",
       "      <th>3599</th>\n",
       "      <td>2304</td>\n",
       "      <td>435599.0</td>\n",
       "      <td>206170.361</td>\n",
       "    </tr>\n",
       "  </tbody>\n",
       "</table>\n",
       "<p>3600 rows × 3 columns</p>\n",
       "</div>"
      ],
      "text/plain": [
       "        WN       TOW         clk\n",
       "0     2304  432000.0 -242543.243\n",
       "1     2304  432001.0 -242696.333\n",
       "2     2304  432002.0 -242849.016\n",
       "3     2304  432003.0 -243002.037\n",
       "4     2304  432004.0 -243155.255\n",
       "...    ...       ...         ...\n",
       "3595  2304  435595.0  206783.022\n",
       "3596  2304  435596.0  206629.914\n",
       "3597  2304  435597.0  206476.893\n",
       "3598  2304  435598.0  206323.507\n",
       "3599  2304  435599.0  206170.361\n",
       "\n",
       "[3600 rows x 3 columns]"
      ]
     },
     "execution_count": 12,
     "metadata": {},
     "output_type": "execute_result"
    }
   ],
   "source": [
    "fileclk1 = fclk1.selected\n",
    "dfclk1 = parse_clk_from_rtkstatus(fileclk1)\n",
    "dfclk1"
   ]
  },
  {
   "cell_type": "markdown",
   "id": "0c1b89d2",
   "metadata": {},
   "source": [
    "### Open and load the second clock bias ###\n",
    "**Be sure to load the correct file**"
   ]
  },
  {
   "cell_type": "code",
   "execution_count": 13,
   "id": "04e18846",
   "metadata": {},
   "outputs": [
    {
     "data": {
      "application/vnd.jupyter.widget-view+json": {
       "model_id": "be043964afb547dd9c25802e1739c3e9",
       "version_major": 2,
       "version_minor": 0
      },
      "text/plain": [
       "FileChooser(path='/media/daniele/5C13-0007/Projects/Development/RinexTools/code', filename='', title='', show_…"
      ]
     },
     "metadata": {},
     "output_type": "display_data"
    }
   ],
   "source": [
    "fclk2 = FileChooser()\n",
    "fclk2"
   ]
  },
  {
   "cell_type": "code",
   "execution_count": 14,
   "id": "77cf18e6",
   "metadata": {},
   "outputs": [
    {
     "data": {
      "text/html": [
       "<div>\n",
       "<style scoped>\n",
       "    .dataframe tbody tr th:only-of-type {\n",
       "        vertical-align: middle;\n",
       "    }\n",
       "\n",
       "    .dataframe tbody tr th {\n",
       "        vertical-align: top;\n",
       "    }\n",
       "\n",
       "    .dataframe thead th {\n",
       "        text-align: right;\n",
       "    }\n",
       "</style>\n",
       "<table border=\"1\" class=\"dataframe\">\n",
       "  <thead>\n",
       "    <tr style=\"text-align: right;\">\n",
       "      <th></th>\n",
       "      <th>WN</th>\n",
       "      <th>TOW</th>\n",
       "      <th>clk</th>\n",
       "    </tr>\n",
       "  </thead>\n",
       "  <tbody>\n",
       "    <tr>\n",
       "      <th>0</th>\n",
       "      <td>2304</td>\n",
       "      <td>432000.0</td>\n",
       "      <td>-300391.264</td>\n",
       "    </tr>\n",
       "    <tr>\n",
       "      <th>1</th>\n",
       "      <td>2304</td>\n",
       "      <td>432001.0</td>\n",
       "      <td>-300483.416</td>\n",
       "    </tr>\n",
       "    <tr>\n",
       "      <th>2</th>\n",
       "      <td>2304</td>\n",
       "      <td>432002.0</td>\n",
       "      <td>-300574.992</td>\n",
       "    </tr>\n",
       "    <tr>\n",
       "      <th>3</th>\n",
       "      <td>2304</td>\n",
       "      <td>432003.0</td>\n",
       "      <td>-300666.586</td>\n",
       "    </tr>\n",
       "    <tr>\n",
       "      <th>4</th>\n",
       "      <td>2304</td>\n",
       "      <td>432004.0</td>\n",
       "      <td>-300758.125</td>\n",
       "    </tr>\n",
       "    <tr>\n",
       "      <th>...</th>\n",
       "      <td>...</td>\n",
       "      <td>...</td>\n",
       "      <td>...</td>\n",
       "    </tr>\n",
       "    <tr>\n",
       "      <th>3595</th>\n",
       "      <td>2304</td>\n",
       "      <td>435595.0</td>\n",
       "      <td>369405.182</td>\n",
       "    </tr>\n",
       "    <tr>\n",
       "      <th>3596</th>\n",
       "      <td>2304</td>\n",
       "      <td>435596.0</td>\n",
       "      <td>369313.627</td>\n",
       "    </tr>\n",
       "    <tr>\n",
       "      <th>3597</th>\n",
       "      <td>2304</td>\n",
       "      <td>435597.0</td>\n",
       "      <td>369221.528</td>\n",
       "    </tr>\n",
       "    <tr>\n",
       "      <th>3598</th>\n",
       "      <td>2304</td>\n",
       "      <td>435598.0</td>\n",
       "      <td>369129.580</td>\n",
       "    </tr>\n",
       "    <tr>\n",
       "      <th>3599</th>\n",
       "      <td>2304</td>\n",
       "      <td>435599.0</td>\n",
       "      <td>369038.336</td>\n",
       "    </tr>\n",
       "  </tbody>\n",
       "</table>\n",
       "<p>3600 rows × 3 columns</p>\n",
       "</div>"
      ],
      "text/plain": [
       "        WN       TOW         clk\n",
       "0     2304  432000.0 -300391.264\n",
       "1     2304  432001.0 -300483.416\n",
       "2     2304  432002.0 -300574.992\n",
       "3     2304  432003.0 -300666.586\n",
       "4     2304  432004.0 -300758.125\n",
       "...    ...       ...         ...\n",
       "3595  2304  435595.0  369405.182\n",
       "3596  2304  435596.0  369313.627\n",
       "3597  2304  435597.0  369221.528\n",
       "3598  2304  435598.0  369129.580\n",
       "3599  2304  435599.0  369038.336\n",
       "\n",
       "[3600 rows x 3 columns]"
      ]
     },
     "execution_count": 14,
     "metadata": {},
     "output_type": "execute_result"
    }
   ],
   "source": [
    "fileclk2 = fclk2.selected\n",
    "dfclk2 = parse_clk_from_rtkstatus(fileclk2)\n",
    "dfclk2"
   ]
  },
  {
   "cell_type": "markdown",
   "id": "3695c8ee",
   "metadata": {},
   "source": [
    "### Now compute double differences ###"
   ]
  },
  {
   "cell_type": "code",
   "execution_count": 15,
   "id": "c4a4a304",
   "metadata": {},
   "outputs": [
    {
     "name": "stdout",
     "output_type": "stream",
     "text": [
      "{'G': ['C1C', 'L1C', 'D1C', 'S1C', 'C1W', 'S1W', 'C2W', 'L2W', 'D2W', 'S2W', 'C2L', 'L2L', 'D2L', 'S2L', 'C5Q', 'L5Q', 'D5Q', 'S5Q', 'C1L', 'L1L', 'D1L', 'S1L'], 'E': ['C1C', 'L1C', 'D1C', 'S1C', 'C6C', 'L6C', 'D6C', 'S6C', 'C5Q', 'L5Q', 'D5Q', 'S5Q', 'C7Q', 'L7Q', 'D7Q', 'S7Q', 'C8Q', 'L8Q', 'D8Q', 'S8Q'], 'C': ['C1P', 'L1P', 'D1P', 'S1P', 'C5P', 'L5P', 'D5P', 'S5P', 'C2I', 'L2I', 'D2I', 'S2I', 'C7I', 'L7I', 'D7I', 'S7I', 'C6I', 'L6I', 'D6I', 'S6I', 'C7D', 'L7D', 'D7D', 'S7D']}\n"
     ]
    }
   ],
   "source": [
    "# Check which GNSS and signals are present\n",
    "print(rxconv.obs_list)"
   ]
  },
  {
   "cell_type": "code",
   "execution_count": 24,
   "id": "34ecfd19",
   "metadata": {},
   "outputs": [
    {
     "name": "stdout",
     "output_type": "stream",
     "text": [
      "Pivot Satellite: 3\n"
     ]
    }
   ],
   "source": [
    "# Select a GNSS and a type of observations\n",
    "gnss = \"G\"\n",
    "obstype = \"1C\"\n",
    "\n",
    "# Keep only the selected GNSS and measurements (carrier phase and Doppler frequencies)\n",
    "df1_car = df1[(df1[\"GNSS\"].values == gnss) & (df1[\"OBS_TYPE\"].values == \"L\" + obstype)]\n",
    "df1_dop = df1[(df1[\"GNSS\"].values == gnss) & (df1[\"OBS_TYPE\"].values == \"D\" + obstype)]\n",
    "\n",
    "df2_car = df2[(df2[\"GNSS\"].values == gnss) & (df2[\"OBS_TYPE\"].values == \"L\" + obstype)]\n",
    "df2_dop = df2[(df2[\"GNSS\"].values == gnss) & (df2[\"OBS_TYPE\"].values == \"D\" + obstype)]\n",
    "\n",
    "# List of available satellites\n",
    "sats = np.unique(df1_car[\"PRN\"].values)\n",
    "\n",
    "# Select the pivot satellite as the one with more measurements (more available)\n",
    "pivsat = sats[0]\n",
    "max_nobs = sum(df1_car[\"PRN\"].values == pivsat)\n",
    "\n",
    "for sat in sats :\n",
    "    nobs = sum(df1_car[\"PRN\"].values == sat)\n",
    "    \n",
    "    if nobs > max_nobs :\n",
    "        pivsat = sat\n",
    "        max_nobs = nobs\n",
    "        \n",
    "print(f\"Pivot Satellite: {pivsat}\")"
   ]
  },
  {
   "cell_type": "markdown",
   "id": "99e29072",
   "metadata": {},
   "source": [
    "### Compute carrier phase differences for the pivot satellite ###"
   ]
  },
  {
   "cell_type": "code",
   "execution_count": 25,
   "id": "12e614ec",
   "metadata": {},
   "outputs": [],
   "source": [
    "d1_car_piv = df1_car[df1_car[\"PRN\"].values == pivsat]\n",
    "d1_dop_piv = df1_dop[df1_dop[\"PRN\"].values == pivsat]\n",
    "\n",
    "# Common TOWs\n",
    "tow1_piv, ind1, ind2 = np.intersect1d(d1_car_piv[\"TOW\"].values, d1_dop_piv[\"TOW\"].values, return_indices = True)\n",
    "d1_car_piv = d1_car_piv.iloc[ind1]\n",
    "d1_dop_piv = d1_dop_piv.iloc[ind2]\n",
    "\n",
    "# Also get the corresponding clock bias\n",
    "tow1_piv, ind1, ind2 = np.intersect1d(d1_car_piv[\"TOW\"].values, dfclk1[\"TOW\"].values, return_indices = True)\n",
    "\n",
    "# Propagate carrier phase observations using Doppler values\n",
    "# The clock bias is in nano-seconds\n",
    "carr1_piv = d1_car_piv.iloc[ind1][\"VALUE\"].values - dfclk1.iloc[ind2][\"clk\"].values * 1e-9 * d1_dop_piv.iloc[ind1][\"VALUE\"].values\n"
   ]
  },
  {
   "cell_type": "code",
   "execution_count": 26,
   "id": "ea2ccefc",
   "metadata": {},
   "outputs": [],
   "source": [
    "# Now do the same for the second receiver\n",
    "d2_car_piv = df2_car[df2_car[\"PRN\"].values == pivsat]\n",
    "d2_dop_piv = df2_dop[df2_dop[\"PRN\"].values == pivsat]\n",
    "\n",
    "# Common TOWs\n",
    "tow2_piv, ind1, ind2 = np.intersect1d(d2_car_piv[\"TOW\"].values, d2_dop_piv[\"TOW\"].values, return_indices = True)\n",
    "d2_car_piv = d2_car_piv.iloc[ind1]\n",
    "d2_dop_piv = d2_dop_piv.iloc[ind2]\n",
    "\n",
    "# Also get the corresponding clock bias\n",
    "tow2_piv, ind1, ind2 = np.intersect1d(d2_car_piv[\"TOW\"].values, dfclk2[\"TOW\"].values, return_indices = True)\n",
    "\n",
    "# Propagate carrier phase observations using Doppler values\n",
    "# The clock bias is in nano-seconds\n",
    "carr2_piv = d2_car_piv.iloc[ind1][\"VALUE\"].values - dfclk2.iloc[ind2][\"clk\"].values * 1e-9 * d2_dop_piv.iloc[ind1][\"VALUE\"].values\n"
   ]
  },
  {
   "cell_type": "markdown",
   "id": "685c9ab9",
   "metadata": {},
   "source": [
    "### Single differences for the pivot satellite ###"
   ]
  },
  {
   "cell_type": "code",
   "execution_count": 27,
   "id": "ec671feb",
   "metadata": {},
   "outputs": [],
   "source": [
    "tow_piv, ind1, ind2 = np.intersect1d(tow1_piv, tow2_piv, return_indices = True)\n",
    "\n",
    "sdiff_piv = carr1_piv[ind1] - carr2_piv[ind2]"
   ]
  },
  {
   "cell_type": "markdown",
   "id": "b8313935",
   "metadata": {},
   "source": [
    "### Do the same for the other satellites and compute double differences ###"
   ]
  },
  {
   "cell_type": "code",
   "execution_count": 53,
   "id": "1501c55b",
   "metadata": {},
   "outputs": [
    {
     "data": {
      "application/vnd.jupyter.widget-view+json": {
       "model_id": "07f717a904b74708938db9ede45c5e82",
       "version_major": 2,
       "version_minor": 0
      },
      "image/png": "[encoded data removed]",
      "text/html": [
       "\n",
       "            <div style=\"display: inline-block;\">\n",
       "                <div class=\"jupyter-widgets widget-label\" style=\"text-align: center;\">\n",
       "                    Figure\n",
       "                </div>\n",
       "                <img src='data:image/png;base64,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' width=640.0/>\n",
       "            </div>\n",
       "        "
      ],
      "text/plain": [
       "Canvas(toolbar=Toolbar(toolitems=[('Home', 'Reset original view', 'home', 'home'), ('Back', 'Back to previous …"
      ]
     },
     "metadata": {},
     "output_type": "display_data"
    }
   ],
   "source": [
    "sats = sats[sats != pivsat]\n",
    "\n",
    "# Open the figure for plotting\n",
    "fig, ax = plt.subplots(1, 2, width_ratios = [4, 1], sharey=True)\n",
    "\n",
    "for sat in sats :\n",
    "    \n",
    "    # First receiver\n",
    "    d1_car_sat = df1_car[df1_car[\"PRN\"].values == sat]\n",
    "    d1_dop_sat = df1_dop[df1_dop[\"PRN\"].values == sat]\n",
    "\n",
    "    # Common TOWs\n",
    "    tow1, ind1, ind2 = np.intersect1d(d1_car_sat[\"TOW\"].values, d1_dop_sat[\"TOW\"].values, return_indices = True)\n",
    "    d1_car_sat = d1_car_sat.iloc[ind1]\n",
    "    d1_dop_sat = d1_dop_sat.iloc[ind2]\n",
    "\n",
    "    # Also get the corresponding clock bias\n",
    "    tow1, ind1, ind2 = np.intersect1d(d1_car_sat[\"TOW\"].values, dfclk1[\"TOW\"].values, return_indices = True)\n",
    "\n",
    "    # Propagate carrier phase observations using Doppler values\n",
    "    # The clock bias is in nano-seconds\n",
    "    carr1_sat = d1_car_sat.iloc[ind1][\"VALUE\"].values - dfclk1.iloc[ind2][\"clk\"].values * 1e-9 * d1_dop_sat.iloc[ind1][\"VALUE\"].values\n",
    "\n",
    "    # Second receiver\n",
    "    d2_car_sat = df2_car[df2_car[\"PRN\"].values == sat]\n",
    "    d2_dop_sat = df2_dop[df2_dop[\"PRN\"].values == sat]\n",
    "\n",
    "    # Common TOWs\n",
    "    tow2, ind1, ind2 = np.intersect1d(d2_car_sat[\"TOW\"].values, d2_dop_sat[\"TOW\"].values, return_indices = True)\n",
    "    d2_car_sat = d2_car_sat.iloc[ind1]\n",
    "    d2_dop_sat = d2_dop_sat.iloc[ind2]\n",
    "\n",
    "    # Also get the corresponding clock bias\n",
    "    tow2, ind1, ind2 = np.intersect1d(d2_car_sat[\"TOW\"].values, dfclk2[\"TOW\"].values, return_indices = True)\n",
    "\n",
    "    # Propagate carrier phase observations using Doppler values\n",
    "    # The clock bias is in nano-seconds\n",
    "    carr2_sat = d2_car_sat.iloc[ind1][\"VALUE\"].values - dfclk2.iloc[ind2][\"clk\"].values * 1e-9 * d2_dop_sat.iloc[ind1][\"VALUE\"].values\n",
    "    \n",
    "    # Now compute single differences\n",
    "    tow_sat, ind1, ind2 = np.intersect1d(tow1, tow2, return_indices = True)\n",
    "\n",
    "    sdiff_sat = carr1_sat[ind1] - carr2_sat[ind2]\n",
    "    \n",
    "    # Finally compute double differences\n",
    "    tow, ind1, ind2 = np.intersect1d(tow_sat, tow_piv, return_indices = True)\n",
    "    \n",
    "    ddiff = sdiff_sat[ind1] - sdiff_piv[ind2]\n",
    "    \n",
    "    ax[0].plot(tow, ddiff, label = str(sat))\n",
    "    \n",
    "    hist, bins = np.histogram(ddiff, bins = 30)\n",
    "    hist = hist / sum(hist) / np.mean(np.diff(bins))\n",
    "    ax[1].barh((bins[1:] + bins[:-1]) / 2, hist, height = np.mean(np.diff(bins)))\n",
    "    \n",
    "# Finally some cosmetic for the figure\n",
    "ax[0].grid(True)\n",
    "ax[0].set_xlabel(\"TOW [s]\", fontsize = 12)\n",
    "ax[0].set_ylabel(r\"$\\nabla\\Delta$ Carr. Phase [cycles]\", fontsize = 12)\n",
    "ax[0].legend()\n",
    "ax[0].set_title(f\"Pivot Satellite: PRN {pivsat}\")\n",
    "ax[0].autoscale(tight = True)\n",
    "\n",
    "ax[1].grid(True)\n",
    "ax[1].autoscale(tight = True)\n",
    "fig.tight_layout()"
   ]
  },
  {
   "cell_type": "code",
   "execution_count": null,
   "id": "9e403b7d",
   "metadata": {},
   "outputs": [],
   "source": []
  }
 ],
 "metadata": {
  "kernelspec": {
   "display_name": "Python 3 (ipykernel)",
   "language": "python",
   "name": "python3"
  },
  "language_info": {
   "codemirror_mode": {
    "name": "ipython",
    "version": 3
   },
   "file_extension": ".py",
   "mimetype": "text/x-python",
   "name": "python",
   "nbconvert_exporter": "python",
   "pygments_lexer": "ipython3",
   "version": "3.9.20"
  }
 },
 "nbformat": 4,
 "nbformat_minor": 5
}
